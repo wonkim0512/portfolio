{
 "cells": [
  {
   "cell_type": "code",
   "execution_count": 1,
   "metadata": {},
   "outputs": [],
   "source": [
    "import pickle\n",
    "import numpy as np\n",
    "import tensorflow as tf"
   ]
  },
  {
   "cell_type": "code",
   "execution_count": 2,
   "metadata": {},
   "outputs": [],
   "source": [
    "tf.set_random_seed(11)  # reproducibility"
   ]
  },
  {
   "cell_type": "code",
   "execution_count": 3,
   "metadata": {},
   "outputs": [],
   "source": [
    "def unpickle(file):\n",
    "    with open(file, 'rb') as fo:\n",
    "        data = pickle.load(fo, encoding='bytes')\n",
    "    return data"
   ]
  },
  {
   "cell_type": "code",
   "execution_count": 4,
   "metadata": {},
   "outputs": [],
   "source": [
    "#load the CIFAR-10\n",
    "def load_CIFAR10(pos, n_chunks=1):\n",
    "    Xtr = []\n",
    "    Ytr = []\n",
    "    for i in range(n_chunks):\n",
    "        train = unpickle(pos + '/data_batch_{0}'.format(i + 1))\n",
    "        Xtr.extend(train[b'data'])\n",
    "        Ytr.extend(train[b'labels'])\n",
    "        test = unpickle(pos + '/test_batch')\n",
    "        Xte = test[b'data']\n",
    "        Yte = test[b'labels']\n",
    "    return np.array(Xtr), np.array(Ytr), np.array(Xte), np.array(Yte)"
   ]
  },
  {
   "cell_type": "code",
   "execution_count": 5,
   "metadata": {},
   "outputs": [],
   "source": [
    "# expresses the label data in one-hot encoding.\n",
    "def onehot_encoding (Ytr, Yte):\n",
    "    Ytr_onehot = np.zeros((Ytr.size, 10))\n",
    "    Yte_onehot = np.zeros((Yte.size, 10))\n",
    "    for i in range(Ytr.size):\n",
    "        Ytr_onehot[i][Ytr[i]] = 1\n",
    "    for i in range(Yte.size):\n",
    "        Yte_onehot[i][Yte[i]] = 1\n",
    "    return Ytr_onehot, Yte_onehot"
   ]
  },
  {
   "cell_type": "code",
   "execution_count": 6,
   "metadata": {},
   "outputs": [],
   "source": [
    "# load the train and test data\n",
    "Xtr, Ytr, Xte, Yte = load_CIFAR10('cifar-10-batches-py', 5)\n",
    "                                 \n",
    "# image data, each data size is 32*32*3\n",
    "Xtr = Xtr.reshape(50000, 3, 32, 32).transpose(0,2,3,1).astype(\"float\")\n",
    "Xte = Xte.reshape(10000, 3, 32, 32).transpose(0,2,3,1).astype(\"float\")\n",
    "\n",
    "# label data of train and test data, label data is represented by one-hot encoding\n",
    "Ytr_onehot, Yte_onehot = onehot_encoding(Ytr, Yte)"
   ]
  },
  {
   "cell_type": "code",
   "execution_count": 7,
   "metadata": {},
   "outputs": [],
   "source": [
    "X = tf.placeholder(tf.float32, [None, 32, 32, 3])\n",
    "Y = tf.placeholder(tf.float32, [None, 10])\n",
    "dropout_prob = tf.placeholder(tf.float32)"
   ]
  },
  {
   "cell_type": "markdown",
   "metadata": {},
   "source": [
    "# 여기서부터"
   ]
  },
  {
   "cell_type": "code",
   "execution_count": 8,
   "metadata": {},
   "outputs": [
    {
     "name": "stdout",
     "output_type": "stream",
     "text": [
      "Tensor(\"conv1/MaxPool:0\", shape=(?, 16, 16, 32), dtype=float32)\n"
     ]
    }
   ],
   "source": [
    "### Implement the layers of CNNs ###\n",
    "\n",
    "with tf.name_scope('conv1'):\n",
    "    W1 = tf.Variable(tf.random_normal([3,3,3,32], stddev = 0.01))\n",
    "    L1 = tf.nn.conv2d(X, W1, strides = [1,1,1,1], padding = 'SAME')\n",
    "    L1 = tf.nn.relu(L1)\n",
    "    L1 = tf.nn.max_pool(L1, ksize = [1,2,2,1], strides = [1,2,2,1], padding = 'SAME')\n",
    "    #L1 = tf.nn.dropout(L1, keep_prob=dropout_prob)\n",
    "    print(L1)"
   ]
  },
  {
   "cell_type": "code",
   "execution_count": 9,
   "metadata": {},
   "outputs": [
    {
     "name": "stdout",
     "output_type": "stream",
     "text": [
      "Tensor(\"conv2/MaxPool:0\", shape=(?, 8, 8, 64), dtype=float32)\n"
     ]
    }
   ],
   "source": [
    "with tf.name_scope('conv2'):\n",
    "    W2 = tf.Variable(tf.random_normal([3, 3, 32, 64], stddev=0.01))\n",
    "    L2 = tf.nn.conv2d(L1, W2, strides=[1, 1, 1, 1], padding='SAME')\n",
    "    L2 = tf.nn.relu(L2)\n",
    "    L2 = tf.nn.max_pool(L2, ksize=[1, 2, 2, 1], strides=[1, 2, 2, 1], padding='SAME')\n",
    "    print(L2)"
   ]
  },
  {
   "cell_type": "code",
   "execution_count": 10,
   "metadata": {},
   "outputs": [
    {
     "name": "stdout",
     "output_type": "stream",
     "text": [
      "Tensor(\"conv3/MaxPool:0\", shape=(?, 4, 4, 128), dtype=float32)\n"
     ]
    }
   ],
   "source": [
    "with tf.name_scope('conv3'):\n",
    "    W3 = tf.Variable(tf.random_normal([3, 3, 64, 128], stddev=0.01))\n",
    "    L3 = tf.nn.conv2d(L2, W3, strides = [1,1,1,1], padding = \"SAME\")\n",
    "    L3 = tf.nn.relu(L3)\n",
    "    L3 = tf.nn.max_pool(L3, ksize = [1,2,2,1], strides = [1,2,2,1], padding='SAME')\n",
    "    #L3 = tf.nn.dropout(L3, keep_prob=dropout_prob)\n",
    "    print(L3)"
   ]
  },
  {
   "cell_type": "code",
   "execution_count": 11,
   "metadata": {},
   "outputs": [
    {
     "name": "stdout",
     "output_type": "stream",
     "text": [
      "Tensor(\"fc1/dropout/mul:0\", shape=(?, 256), dtype=float32)\n"
     ]
    }
   ],
   "source": [
    "with tf.name_scope('fc1'):\n",
    "    W4 = tf.Variable(tf.random_normal([4*4*128, 256], stddev=0.01))\n",
    "    L4 = tf.reshape(L3, [-1, 4*4*128])\n",
    "    L4 = tf.matmul(L4, W4)\n",
    "    b4 = tf.Variable(tf.random_normal([256]))\n",
    "    L4 = tf.nn.relu(L4 + b4)\n",
    "    \n",
    "    # dropout\n",
    "    L4 = tf.nn.dropout(L4, keep_prob=dropout_prob)\n",
    "    print(L4)"
   ]
  },
  {
   "cell_type": "code",
   "execution_count": null,
   "metadata": {},
   "outputs": [],
   "source": [
    "with tf.name_scope('fc2'):\n",
    "    W5 = tf.Variable(tf.random_normal([256, 512], stddev=0.01))\n",
    "    L5 = tf.matmul(L5, W5)\n",
    "    b5 = tf.Variable(tf.random_normal([512]))\n",
    "    L5 = tf.nn.relu(L5 + b5)\n",
    "    \n",
    "    # dropout\n",
    "    L5 = tf.nn.dropout(L5, keep_prob=dropout_prob)\n",
    "    print(L5)"
   ]
  },
  {
   "cell_type": "code",
   "execution_count": 12,
   "metadata": {},
   "outputs": [],
   "source": [
    "with tf.name_scope('fc3'):\n",
    "    W6 = tf.Variable(tf.random_normal([512, 10],stddev= 0.01))\n",
    "    b6 = tf.Variable(tf.random_normal([10]))\n",
    "    model = tf.matmul(L5, W6) + b6"
   ]
  },
  {
   "cell_type": "code",
   "execution_count": 13,
   "metadata": {},
   "outputs": [],
   "source": [
    "with tf.name_scope('accuracy'):\n",
    "    correct_prediction = tf.equal(tf.argmax(model, 1), tf.argmax(Y, 1))\n",
    "    accuracy = tf.reduce_mean(tf.cast(correct_prediction, tf.float32))"
   ]
  },
  {
   "cell_type": "markdown",
   "metadata": {},
   "source": [
    "# 여기까지"
   ]
  },
  {
   "cell_type": "code",
   "execution_count": 14,
   "metadata": {},
   "outputs": [],
   "source": [
    "# hyper parameters\n",
    "learning_rate = 0.001\n",
    "training_epochs = 50\n",
    "batch_size = 1000\n",
    "test_size = 200\n",
    "total_batch = int(len(Xtr) / batch_size)"
   ]
  },
  {
   "cell_type": "code",
   "execution_count": 15,
   "metadata": {},
   "outputs": [],
   "source": [
    "# cost function, you can change the implementation\n",
    "cost = tf.reduce_mean(tf.nn.softmax_cross_entropy_with_logits(logits=model, labels=Y))\n",
    "optimizer = tf.train.AdamOptimizer(learning_rate).minimize(cost)"
   ]
  },
  {
   "cell_type": "code",
   "execution_count": 16,
   "metadata": {},
   "outputs": [],
   "source": [
    "# initialize the variables\n",
    "init = tf.global_variables_initializer()\n",
    "sess = tf.Session()\n",
    "sess.run(init)"
   ]
  },
  {
   "cell_type": "markdown",
   "metadata": {},
   "source": [
    "# 여기서부터"
   ]
  },
  {
   "cell_type": "code",
   "execution_count": 23,
   "metadata": {
    "scrolled": false
   },
   "outputs": [
    {
     "name": "stdout",
     "output_type": "stream",
     "text": [
      "********************Learning started********************\n",
      "Epoch:  0001\n",
      "Average cost =  0.17461897283792496\n",
      "Accuracy =  0.6800000071525574\n",
      "\n",
      "Epoch:  0002\n",
      "Average cost =  0.13459104895591736\n",
      "Accuracy =  0.7350000143051147\n",
      "\n",
      "Epoch:  0003\n",
      "Average cost =  0.10529414564371109\n",
      "Accuracy =  0.6549999713897705\n",
      "\n",
      "Epoch:  0004\n",
      "Average cost =  0.1010244145989418\n",
      "Accuracy =  0.6949999928474426\n",
      "\n",
      "Epoch:  0005\n",
      "Average cost =  0.10479201972484589\n",
      "Accuracy =  0.6949999928474426\n",
      "\n",
      "Epoch:  0006\n",
      "Average cost =  0.09616041630506515\n",
      "Accuracy =  0.7200000286102295\n",
      "\n",
      "Epoch:  0007\n",
      "Average cost =  0.08901743963360786\n",
      "Accuracy =  0.7350000143051147\n",
      "\n",
      "Epoch:  0008\n",
      "Average cost =  0.08941064402461052\n",
      "Accuracy =  0.75\n",
      "\n",
      "Epoch:  0009\n",
      "Average cost =  0.06890289224684239\n",
      "Accuracy =  0.7699999809265137\n",
      "\n",
      "Epoch:  0010\n",
      "Average cost =  0.053802162408828735\n",
      "Accuracy =  0.7599999904632568\n",
      "\n",
      "Epoch:  0011\n",
      "Average cost =  0.04437579847872257\n",
      "Accuracy =  0.7400000095367432\n",
      "\n",
      "Epoch:  0012\n",
      "Average cost =  0.03192797470837831\n",
      "Accuracy =  0.7049999833106995\n",
      "\n",
      "Epoch:  0013\n",
      "Average cost =  0.02717549093067646\n",
      "Accuracy =  0.7749999761581421\n",
      "\n",
      "Epoch:  0014\n",
      "Average cost =  0.027125650085508823\n",
      "Accuracy =  0.7400000095367432\n",
      "\n",
      "Epoch:  0015\n",
      "Average cost =  0.024328234791755676\n",
      "Accuracy =  0.699999988079071\n",
      "\n",
      "Epoch:  0016\n",
      "Average cost =  0.018369391188025476\n",
      "Accuracy =  0.7749999761581421\n",
      "\n",
      "Epoch:  0017\n",
      "Average cost =  0.01755305603146553\n",
      "Accuracy =  0.7649999856948853\n",
      "\n",
      "Epoch:  0018\n",
      "Average cost =  0.02087334990501404\n",
      "Accuracy =  0.7350000143051147\n",
      "\n",
      "Epoch:  0019\n",
      "Average cost =  0.019041092973202466\n",
      "Accuracy =  0.7450000047683716\n",
      "\n",
      "Epoch:  0020\n",
      "Average cost =  0.019145932234823703\n",
      "Accuracy =  0.7099999785423279\n",
      "\n",
      "Epoch:  0021\n",
      "Average cost =  0.015728946775197983\n",
      "Accuracy =  0.7749999761581421\n",
      "\n",
      "Epoch:  0022\n",
      "Average cost =  0.017254565190523864\n",
      "Accuracy =  0.7099999785423279\n",
      "\n",
      "Epoch:  0023\n",
      "Average cost =  0.015412842016667127\n",
      "Accuracy =  0.7200000286102295\n",
      "\n",
      "Epoch:  0024\n",
      "Average cost =  0.015283783338963986\n",
      "Accuracy =  0.7599999904632568\n",
      "\n",
      "Epoch:  0025\n",
      "Average cost =  0.015420280396938324\n",
      "Accuracy =  0.7099999785423279\n",
      "\n",
      "Epoch:  0026\n",
      "Average cost =  0.013022910803556442\n",
      "Accuracy =  0.7300000190734863\n",
      "\n",
      "Epoch:  0027\n",
      "Average cost =  0.01450666249729693\n",
      "Accuracy =  0.7450000047683716\n",
      "\n",
      "Epoch:  0028\n",
      "Average cost =  0.014200859051197768\n",
      "Accuracy =  0.7250000238418579\n",
      "\n",
      "Epoch:  0029\n",
      "Average cost =  0.01698184534907341\n",
      "Accuracy =  0.7450000047683716\n",
      "\n",
      "Epoch:  0030\n",
      "Average cost =  0.014791860058903695\n",
      "Accuracy =  0.6899999976158142\n",
      "\n",
      "Epoch:  0031\n",
      "Average cost =  0.012122533936053514\n",
      "Accuracy =  0.7549999952316284\n",
      "\n",
      "Epoch:  0032\n",
      "Average cost =  0.01143710995092988\n",
      "Accuracy =  0.7049999833106995\n",
      "\n",
      "Epoch:  0033\n",
      "Average cost =  0.009854209376499057\n",
      "Accuracy =  0.7599999904632568\n",
      "\n",
      "Epoch:  0034\n",
      "Average cost =  0.012016886286437512\n",
      "Accuracy =  0.7350000143051147\n",
      "\n",
      "Epoch:  0035\n",
      "Average cost =  0.010918064881116152\n",
      "Accuracy =  0.7599999904632568\n",
      "\n",
      "Epoch:  0036\n",
      "Average cost =  0.016274527832865714\n",
      "Accuracy =  0.7450000047683716\n",
      "\n",
      "Epoch:  0037\n",
      "Average cost =  0.01228084652684629\n",
      "Accuracy =  0.7350000143051147\n",
      "\n",
      "Epoch:  0038\n",
      "Average cost =  0.0106517284642905\n",
      "Accuracy =  0.7749999761581421\n",
      "\n",
      "Epoch:  0039\n",
      "Average cost =  0.013837520917877554\n",
      "Accuracy =  0.7549999952316284\n",
      "\n",
      "Epoch:  0040\n",
      "Average cost =  0.013381099049001931\n",
      "Accuracy =  0.7799999713897705\n",
      "\n",
      "Epoch:  0041\n",
      "Average cost =  0.011116458056494593\n",
      "Accuracy =  0.7099999785423279\n",
      "\n",
      "Epoch:  0042\n",
      "Average cost =  0.013199713826179505\n",
      "Accuracy =  0.7049999833106995\n",
      "\n",
      "Epoch:  0043\n",
      "Average cost =  0.012070123990997671\n",
      "Accuracy =  0.7350000143051147\n",
      "\n",
      "Epoch:  0044\n",
      "Average cost =  0.009948354540392756\n",
      "Accuracy =  0.699999988079071\n",
      "\n",
      "Epoch:  0045\n",
      "Average cost =  0.010134669439867138\n",
      "Accuracy =  0.6850000023841858\n",
      "\n",
      "Epoch:  0046\n",
      "Average cost =  0.011668804055079817\n",
      "Accuracy =  0.8199999928474426\n",
      "\n",
      "Epoch:  0047\n",
      "Average cost =  0.012194505054503679\n",
      "Accuracy =  0.7400000095367432\n",
      "\n",
      "Epoch:  0048\n",
      "Average cost =  0.010768655641004442\n",
      "Accuracy =  0.699999988079071\n",
      "\n",
      "Epoch:  0049\n",
      "Average cost =  0.010525783849880099\n",
      "Accuracy =  0.699999988079071\n",
      "\n",
      "Epoch:  0050\n",
      "Average cost =  0.010499266162514686\n",
      "Accuracy =  0.7300000190734863\n",
      "\n",
      "********************Learning finished********************\n"
     ]
    }
   ],
   "source": [
    "### Implement the train process ###\n",
    "print(\"*\"*20 + 'Learning started' + \"*\"*20)\n",
    "\n",
    "for epoch in range(training_epochs):\n",
    "    total_cost = 0\n",
    "    \n",
    "    for batch_idx in range(total_batch):\n",
    "        batch_xs = Xtr[batch_size * batch_idx : batch_size * (batch_idx+1)]\n",
    "        batch_ys = Ytr_onehot[batch_size * batch_idx : batch_size * (batch_idx+1)]\n",
    "            \n",
    "        feed_dicts = {X: batch_xs, Y: batch_ys, dropout_prob: 0.7}\n",
    "        _, cost_val = sess.run([optimizer, cost], feed_dict = feed_dicts) #optimizer는 필요가 없어서 _에 assign\n",
    "        total_cost += cost_val\n",
    "        \n",
    "    test_indices = np.arange(len(Yte_onehot))\n",
    "    np.random.shuffle(test_indices)\n",
    "    test_indices = test_indices[:test_size]\n",
    "    \n",
    "    test_xs = Xte[test_indices]\n",
    "    test_ys = Yte_onehot[test_indices]\n",
    "    feed_dicts = {X: test_xs, Y: test_ys, dropout_prob: 1}\n",
    "    acc = sess.run(accuracy, feed_dict = feed_dicts )\n",
    "        \n",
    "    print(\"Epoch: \", \"%04d\" %(epoch + 1))\n",
    "    print(\"Average cost = \", \"{}\".format(total_cost/total_batch))\n",
    "    print(\"Accuracy = \", \"{}\\n\".format(acc))\n",
    "    \n",
    "    \n",
    "print(\"*\"*20 + 'Learning finished' + \"*\"*20)"
   ]
  },
  {
   "cell_type": "code",
   "execution_count": 24,
   "metadata": {},
   "outputs": [
    {
     "name": "stdout",
     "output_type": "stream",
     "text": [
      "Accuracy 0.7351\n"
     ]
    }
   ],
   "source": [
    "### Implement the test process ###\n",
    "\n",
    "print('Accuracy', sess.run(accuracy, feed_dict = {X: Xte, Y: Yte_onehot, dropout_prob: 1}))"
   ]
  },
  {
   "cell_type": "code",
   "execution_count": 25,
   "metadata": {
    "scrolled": false
   },
   "outputs": [
    {
     "name": "stdout",
     "output_type": "stream",
     "text": [
      "0.739\n",
      "0.748\n",
      "0.718\n",
      "0.732\n",
      "0.751\n",
      "0.734\n",
      "0.726\n",
      "0.738\n",
      "0.724\n",
      "0.741\n",
      "\n",
      "Avg acc: 0.7351000010967255\n"
     ]
    }
   ],
   "source": [
    "# Accuracy\n",
    "\n",
    "total_acc = 0\n",
    "total_batch = int(len(Yte_onehot)/batch_size)\n",
    "\n",
    "for idx in range(total_batch):\n",
    "    curr_acc = sess.run(accuracy, feed_dict={X: Xte[batch_size*idx: batch_size*(idx+1)],\\\n",
    "                                             Y: Yte_onehot[batch_size*idx: batch_size*(idx+1)], dropout_prob: 1})\n",
    "    \n",
    "    total_acc += curr_acc\n",
    "    print(curr_acc)\n",
    "\n",
    "print(\"\\nAvg acc: {}\".format(total_acc/total_batch))"
   ]
  },
  {
   "cell_type": "markdown",
   "metadata": {
    "collapsed": true
   },
   "source": [
    "# 여기까지"
   ]
  }
 ],
 "metadata": {
  "kernelspec": {
   "display_name": "tensorflow",
   "language": "python",
   "name": "tensorflow"
  },
  "language_info": {
   "codemirror_mode": {
    "name": "ipython",
    "version": 3
   },
   "file_extension": ".py",
   "mimetype": "text/x-python",
   "name": "python",
   "nbconvert_exporter": "python",
   "pygments_lexer": "ipython3",
   "version": "3.5.4"
  }
 },
 "nbformat": 4,
 "nbformat_minor": 2
}
