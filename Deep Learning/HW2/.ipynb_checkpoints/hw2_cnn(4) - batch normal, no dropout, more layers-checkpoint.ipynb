{
 "cells": [
  {
   "cell_type": "code",
   "execution_count": 1,
   "metadata": {},
   "outputs": [],
   "source": [
    "import pickle\n",
    "import numpy as np\n",
    "import tensorflow as tf"
   ]
  },
  {
   "cell_type": "code",
   "execution_count": 2,
   "metadata": {},
   "outputs": [],
   "source": [
    "tf.set_random_seed(11)  # reproducibility"
   ]
  },
  {
   "cell_type": "code",
   "execution_count": 3,
   "metadata": {},
   "outputs": [],
   "source": [
    "def unpickle(file):\n",
    "    with open(file, 'rb') as fo:\n",
    "        data = pickle.load(fo, encoding='bytes')\n",
    "    return data"
   ]
  },
  {
   "cell_type": "code",
   "execution_count": 4,
   "metadata": {},
   "outputs": [],
   "source": [
    "#load the CIFAR-10\n",
    "def load_CIFAR10(pos, n_chunks=1):\n",
    "    Xtr = []\n",
    "    Ytr = []\n",
    "    for i in range(n_chunks):\n",
    "        train = unpickle(pos + '/data_batch_{0}'.format(i + 1))\n",
    "        Xtr.extend(train[b'data'])\n",
    "        Ytr.extend(train[b'labels'])\n",
    "        test = unpickle(pos + '/test_batch')\n",
    "        Xte = test[b'data']\n",
    "        Yte = test[b'labels']\n",
    "    return np.array(Xtr), np.array(Ytr), np.array(Xte), np.array(Yte)"
   ]
  },
  {
   "cell_type": "code",
   "execution_count": 5,
   "metadata": {},
   "outputs": [],
   "source": [
    "# expresses the label data in one-hot encoding.\n",
    "def onehot_encoding (Ytr, Yte):\n",
    "    Ytr_onehot = np.zeros((Ytr.size, 10))\n",
    "    Yte_onehot = np.zeros((Yte.size, 10))\n",
    "    for i in range(Ytr.size):\n",
    "        Ytr_onehot[i][Ytr[i]] = 1\n",
    "    for i in range(Yte.size):\n",
    "        Yte_onehot[i][Yte[i]] = 1\n",
    "    return Ytr_onehot, Yte_onehot"
   ]
  },
  {
   "cell_type": "code",
   "execution_count": 6,
   "metadata": {},
   "outputs": [],
   "source": [
    "# load the train and test data\n",
    "Xtr, Ytr, Xte, Yte = load_CIFAR10('cifar-10-batches-py', 5)\n",
    "                                 \n",
    "# image data, each data size is 32*32*3\n",
    "Xtr = Xtr.reshape(50000, 3, 32, 32).transpose(0,2,3,1).astype(\"float\")\n",
    "Xte = Xte.reshape(10000, 3, 32, 32).transpose(0,2,3,1).astype(\"float\")\n",
    "\n",
    "# label data of train and test data, label data is represented by one-hot encoding\n",
    "Ytr_onehot, Yte_onehot = onehot_encoding(Ytr, Yte)"
   ]
  },
  {
   "cell_type": "code",
   "execution_count": 7,
   "metadata": {},
   "outputs": [],
   "source": [
    "X = tf.placeholder(tf.float32, [None, 32, 32, 3])\n",
    "Y = tf.placeholder(tf.float32, [None, 10])\n",
    "dropout_prob = tf.placeholder(tf.float32)"
   ]
  },
  {
   "cell_type": "markdown",
   "metadata": {},
   "source": [
    "# 여기서부터"
   ]
  },
  {
   "cell_type": "code",
   "execution_count": 8,
   "metadata": {},
   "outputs": [
    {
     "name": "stdout",
     "output_type": "stream",
     "text": [
      "Tensor(\"conv11/Relu:0\", shape=(?, 32, 32, 3), dtype=float32)\n"
     ]
    }
   ],
   "source": [
    "### Implement the layers of CNNs ###\n",
    "\n",
    "with tf.name_scope('conv11'):\n",
    "    W11 = tf.Variable(tf.random_normal([3,3,3,3], stddev = 0.01))\n",
    "    L11 = tf.nn.conv2d(X, W11, strides = [1,1,1,1], padding = 'SAME')\n",
    "    L11 = tf.nn.relu(L11)\n",
    "    #L1 = tf.contrib.layers.batch_norm(L1)\n",
    "    #L1 = tf.nn.max_pool(L1, ksize = [1,2,2,1], strides = [1,2,2,1], padding = 'SAME')\n",
    "    #L1 = tf.nn.dropout(L1, keep_prob=dropout_prob)\n",
    "    print(L11)"
   ]
  },
  {
   "cell_type": "code",
   "execution_count": 10,
   "metadata": {},
   "outputs": [
    {
     "name": "stdout",
     "output_type": "stream",
     "text": [
      "Tensor(\"conv12_1/MaxPool:0\", shape=(?, 16, 16, 32), dtype=float32)\n"
     ]
    }
   ],
   "source": [
    "with tf.name_scope('conv12'):\n",
    "    W12 = tf.Variable(tf.random_normal([3,3,3,32], stddev = 0.01))\n",
    "    L12 = tf.nn.conv2d(L11, W12, strides = [1,1,1,1], padding = 'SAME')\n",
    "    L12 = tf.nn.relu(L12)\n",
    "    L12 = tf.contrib.layers.batch_norm(L12)\n",
    "    L12 = tf.nn.max_pool(L12, ksize = [1,2,2,1], strides = [1,2,2,1], padding = 'SAME')\n",
    "    #L1 = tf.nn.dropout(L1, keep_prob=dropout_prob)\n",
    "    print(L12)"
   ]
  },
  {
   "cell_type": "code",
   "execution_count": 11,
   "metadata": {},
   "outputs": [
    {
     "name": "stdout",
     "output_type": "stream",
     "text": [
      "Tensor(\"conv21/BatchNorm/FusedBatchNorm:0\", shape=(?, 16, 16, 32), dtype=float32)\n"
     ]
    }
   ],
   "source": [
    "with tf.name_scope('conv21'):\n",
    "    W21 = tf.Variable(tf.random_normal([3, 3, 32, 32], stddev=0.01))\n",
    "    L21 = tf.nn.conv2d(L12, W21, strides=[1, 1, 1, 1], padding='SAME')\n",
    "    L21 = tf.nn.relu(L21)\n",
    "    L21 = tf.contrib.layers.batch_norm(L21)\n",
    "\n",
    "    print(L21)"
   ]
  },
  {
   "cell_type": "code",
   "execution_count": 12,
   "metadata": {},
   "outputs": [
    {
     "name": "stdout",
     "output_type": "stream",
     "text": [
      "Tensor(\"conv22/MaxPool:0\", shape=(?, 8, 8, 64), dtype=float32)\n"
     ]
    }
   ],
   "source": [
    "with tf.name_scope('conv22'):\n",
    "    W22 = tf.Variable(tf.random_normal([3, 3, 32, 64], stddev=0.01))\n",
    "    L22 = tf.nn.conv2d(L21, W22, strides=[1, 1, 1, 1], padding='SAME')\n",
    "    L22 = tf.nn.relu(L22)\n",
    "    L22 = tf.contrib.layers.batch_norm(L22)\n",
    "    L22 = tf.nn.max_pool(L22, ksize=[1, 2, 2, 1], strides=[1, 2, 2, 1], padding='SAME')\n",
    "    print(L22)"
   ]
  },
  {
   "cell_type": "code",
   "execution_count": 15,
   "metadata": {},
   "outputs": [
    {
     "name": "stdout",
     "output_type": "stream",
     "text": [
      "Tensor(\"conv31_1/BatchNorm/FusedBatchNorm:0\", shape=(?, 8, 8, 64), dtype=float32)\n"
     ]
    }
   ],
   "source": [
    "with tf.name_scope('conv31'):\n",
    "    W31 = tf.Variable(tf.random_normal([3, 3, 64, 64], stddev=0.01))\n",
    "    L31 = tf.nn.conv2d(L22, W31, strides = [1,1,1,1], padding = \"SAME\")\n",
    "    L31 = tf.nn.relu(L31)\n",
    "    L31 = tf.contrib.layers.batch_norm(L31)\n",
    "    \n",
    "    #L3 = tf.nn.dropout(L3, keep_prob=dropout_prob)\n",
    "    print(L31)"
   ]
  },
  {
   "cell_type": "code",
   "execution_count": 16,
   "metadata": {},
   "outputs": [
    {
     "name": "stdout",
     "output_type": "stream",
     "text": [
      "Tensor(\"conv32_1/MaxPool:0\", shape=(?, 4, 4, 128), dtype=float32)\n"
     ]
    }
   ],
   "source": [
    "with tf.name_scope('conv32'):\n",
    "    W32 = tf.Variable(tf.random_normal([3, 3, 64, 128], stddev=0.01))\n",
    "    L32 = tf.nn.conv2d(L31, W32, strides = [1,1,1,1], padding = \"SAME\")\n",
    "    L32 = tf.nn.relu(L32)\n",
    "    L32 = tf.contrib.layers.batch_norm(L32)\n",
    "    L32 = tf.nn.max_pool(L32, ksize = [1,2,2,1], strides = [1,2,2,1], padding='SAME')\n",
    "    #L3 = tf.nn.dropout(L3, keep_prob=dropout_prob)\n",
    "    print(L32)"
   ]
  },
  {
   "cell_type": "code",
   "execution_count": 26,
   "metadata": {},
   "outputs": [
    {
     "name": "stdout",
     "output_type": "stream",
     "text": [
      "Tensor(\"fc1_2/BatchNorm/Reshape_1:0\", shape=(?, 256), dtype=float32)\n"
     ]
    }
   ],
   "source": [
    "with tf.name_scope('fc1'):\n",
    "    W4 = tf.Variable(tf.random_normal([4*4*128, 256], stddev=0.01))\n",
    "    L4 = tf.reshape(L32, [-1, 4*4*128])\n",
    "    L4 = tf.matmul(L4, W4)\n",
    "    b4 = tf.Variable(tf.random_normal([256]))\n",
    "    L4 = tf.nn.relu(L4 + b4)\n",
    "    L4 = tf.contrib.layers.batch_norm(L4)\n",
    "    \n",
    "    # dropout\n",
    "    #L4 = tf.nn.dropout(L4, keep_prob=dropout_prob)\n",
    "    print(L4)"
   ]
  },
  {
   "cell_type": "code",
   "execution_count": 27,
   "metadata": {},
   "outputs": [
    {
     "name": "stdout",
     "output_type": "stream",
     "text": [
      "Tensor(\"fc2_1/BatchNorm/Reshape_1:0\", shape=(?, 512), dtype=float32)\n"
     ]
    }
   ],
   "source": [
    "with tf.name_scope('fc2'):\n",
    "    W5 = tf.Variable(tf.random_normal([256, 512], stddev=0.01))\n",
    "    L5 = tf.matmul(L4, W5)\n",
    "    b5 = tf.Variable(tf.random_normal([512]))\n",
    "    L5 = tf.nn.relu(L5 + b5)\n",
    "    L5 = tf.contrib.layers.batch_norm(L5)\n",
    "    \n",
    "    # dropout\n",
    "    #L5 = tf.nn.dropout(L5, keep_prob=dropout_prob)\n",
    "    print(L5)"
   ]
  },
  {
   "cell_type": "code",
   "execution_count": 28,
   "metadata": {},
   "outputs": [],
   "source": [
    "with tf.name_scope('fc3'):\n",
    "    W6 = tf.Variable(tf.random_normal([512, 10],stddev= 0.01))\n",
    "    b6 = tf.Variable(tf.random_normal([10]))\n",
    "    model = tf.matmul(L5, W6) + b6\n",
    "    model"
   ]
  },
  {
   "cell_type": "code",
   "execution_count": 29,
   "metadata": {},
   "outputs": [],
   "source": [
    "with tf.name_scope('accuracy'):\n",
    "    correct_prediction = tf.equal(tf.argmax(model, 1), tf.argmax(Y, 1))\n",
    "    accuracy = tf.reduce_mean(tf.cast(correct_prediction, tf.float32))"
   ]
  },
  {
   "cell_type": "markdown",
   "metadata": {},
   "source": [
    "# 여기까지"
   ]
  },
  {
   "cell_type": "code",
   "execution_count": 30,
   "metadata": {},
   "outputs": [],
   "source": [
    "# hyper parameters\n",
    "learning_rate = 0.001\n",
    "training_epochs = 50\n",
    "batch_size = 1000\n",
    "test_size = 200\n",
    "total_batch = int(len(Xtr) / batch_size)"
   ]
  },
  {
   "cell_type": "code",
   "execution_count": 31,
   "metadata": {},
   "outputs": [],
   "source": [
    "# cost function, you can change the implementation\n",
    "cost = tf.reduce_mean(tf.nn.softmax_cross_entropy_with_logits(logits=model, labels=Y))\n",
    "optimizer = tf.train.AdamOptimizer(learning_rate).minimize(cost)"
   ]
  },
  {
   "cell_type": "code",
   "execution_count": 32,
   "metadata": {},
   "outputs": [],
   "source": [
    "# initialize the variables\n",
    "init = tf.global_variables_initializer()\n",
    "sess = tf.Session()\n",
    "sess.run(init)"
   ]
  },
  {
   "cell_type": "markdown",
   "metadata": {},
   "source": [
    "# 여기서부터"
   ]
  },
  {
   "cell_type": "code",
   "execution_count": 33,
   "metadata": {
    "scrolled": false
   },
   "outputs": [
    {
     "name": "stdout",
     "output_type": "stream",
     "text": [
      "********************Learning started********************\n",
      "Epoch:  0001\n",
      "Average cost =  1.4205801510810852\n",
      "Accuracy =  0.6449999809265137\n",
      "\n",
      "Epoch:  0002\n",
      "Average cost =  0.8634176981449128\n",
      "Accuracy =  0.699999988079071\n",
      "\n",
      "Epoch:  0003\n",
      "Average cost =  0.6764457798004151\n",
      "Accuracy =  0.7799999713897705\n",
      "\n",
      "Epoch:  0004\n",
      "Average cost =  0.5682568114995956\n",
      "Accuracy =  0.7099999785423279\n",
      "\n",
      "Epoch:  0005\n",
      "Average cost =  0.4886645007133484\n",
      "Accuracy =  0.7699999809265137\n",
      "\n",
      "Epoch:  0006\n",
      "Average cost =  0.39878408551216127\n",
      "Accuracy =  0.7599999904632568\n",
      "\n",
      "Epoch:  0007\n",
      "Average cost =  0.3495431309938431\n",
      "Accuracy =  0.7300000190734863\n",
      "\n",
      "Epoch:  0008\n",
      "Average cost =  0.31109075754880905\n",
      "Accuracy =  0.7450000047683716\n",
      "\n",
      "Epoch:  0009\n",
      "Average cost =  0.2476930922269821\n",
      "Accuracy =  0.6949999928474426\n",
      "\n",
      "Epoch:  0010\n",
      "Average cost =  0.19761328965425493\n",
      "Accuracy =  0.75\n",
      "\n",
      "Epoch:  0011\n",
      "Average cost =  0.1703512953221798\n",
      "Accuracy =  0.7450000047683716\n",
      "\n",
      "Epoch:  0012\n",
      "Average cost =  0.14558542445302008\n",
      "Accuracy =  0.7300000190734863\n",
      "\n",
      "Epoch:  0013\n",
      "Average cost =  0.12074575945734978\n",
      "Accuracy =  0.7749999761581421\n",
      "\n",
      "Epoch:  0014\n",
      "Average cost =  0.09761742778122424\n",
      "Accuracy =  0.75\n",
      "\n",
      "Epoch:  0015\n",
      "Average cost =  0.054965697564184665\n",
      "Accuracy =  0.7400000095367432\n",
      "\n",
      "Epoch:  0016\n",
      "Average cost =  0.030497659035027026\n",
      "Accuracy =  0.7900000214576721\n",
      "\n",
      "Epoch:  0017\n",
      "Average cost =  0.01668740015476942\n",
      "Accuracy =  0.7900000214576721\n",
      "\n",
      "Epoch:  0018\n",
      "Average cost =  0.0074500268278643485\n",
      "Accuracy =  0.7699999809265137\n",
      "\n",
      "Epoch:  0019\n",
      "Average cost =  0.002863589129410684\n",
      "Accuracy =  0.7900000214576721\n",
      "\n",
      "Epoch:  0020\n",
      "Average cost =  0.0014486824546474963\n",
      "Accuracy =  0.7699999809265137\n",
      "\n",
      "********************Learning finished********************\n"
     ]
    }
   ],
   "source": [
    "### Implement the train process ###\n",
    "print(\"*\"*20 + 'Learning started' + \"*\"*20)\n",
    "\n",
    "#for epoch in range(training_epochs):\n",
    "for epoch in range(20):\n",
    "    total_cost = 0\n",
    "    \n",
    "    for batch_idx in range(total_batch):\n",
    "        batch_xs = Xtr[batch_size * batch_idx : batch_size * (batch_idx+1)]\n",
    "        batch_ys = Ytr_onehot[batch_size * batch_idx : batch_size * (batch_idx+1)]\n",
    "            \n",
    "        feed_dicts = {X: batch_xs, Y: batch_ys, dropout_prob: 0.7}\n",
    "        _, cost_val = sess.run([optimizer, cost], feed_dict = feed_dicts) #optimizer는 필요가 없어서 _에 assign\n",
    "        total_cost += cost_val\n",
    "        \n",
    "    test_indices = np.arange(len(Yte_onehot))\n",
    "    np.random.shuffle(test_indices)\n",
    "    test_indices = test_indices[:test_size]\n",
    "    \n",
    "    test_xs = Xte[test_indices]\n",
    "    test_ys = Yte_onehot[test_indices]\n",
    "    feed_dicts = {X: test_xs, Y: test_ys, dropout_prob: 1}\n",
    "    acc = sess.run(accuracy, feed_dict = feed_dicts )\n",
    "        \n",
    "    print(\"Epoch: \", \"%04d\" %(epoch + 1))\n",
    "    print(\"Average cost = \", \"{}\".format(total_cost/total_batch))\n",
    "    print(\"Accuracy = \", \"{}\\n\".format(acc))\n",
    "    \n",
    "    \n",
    "print(\"*\"*20 + 'Learning finished' + \"*\"*20)"
   ]
  },
  {
   "cell_type": "markdown",
   "metadata": {},
   "source": [
    "### Implement the test process ###\n",
    "\n",
    "print('Accuracy', sess.run(accuracy, feed_dict = {X: Xte, Y: Yte_onehot, dropout_prob: 1}))"
   ]
  },
  {
   "cell_type": "code",
   "execution_count": 34,
   "metadata": {
    "scrolled": false
   },
   "outputs": [
    {
     "name": "stdout",
     "output_type": "stream",
     "text": [
      "0.811\n",
      "0.78\n",
      "0.768\n",
      "0.799\n",
      "0.799\n",
      "0.784\n",
      "0.793\n",
      "0.79\n",
      "0.805\n",
      "0.797\n",
      "\n",
      "Avg acc: 0.7925999999046326\n"
     ]
    }
   ],
   "source": [
    "# Accuracy\n",
    "\n",
    "total_acc = 0\n",
    "total_batch = int(len(Yte_onehot)/batch_size)\n",
    "\n",
    "for idx in range(total_batch):\n",
    "    curr_acc = sess.run(accuracy, feed_dict={X: Xte[batch_size*idx: batch_size*(idx+1)],\\\n",
    "                                             Y: Yte_onehot[batch_size*idx: batch_size*(idx+1)], dropout_prob: 1})\n",
    "    \n",
    "    total_acc += curr_acc\n",
    "    print(curr_acc)\n",
    "\n",
    "print(\"\\nAvg acc: {}\".format(total_acc/total_batch))"
   ]
  },
  {
   "cell_type": "markdown",
   "metadata": {
    "collapsed": true
   },
   "source": [
    "# 여기까지"
   ]
  }
 ],
 "metadata": {
  "kernelspec": {
   "display_name": "tensorflow",
   "language": "python",
   "name": "tensorflow"
  },
  "language_info": {
   "codemirror_mode": {
    "name": "ipython",
    "version": 3
   },
   "file_extension": ".py",
   "mimetype": "text/x-python",
   "name": "python",
   "nbconvert_exporter": "python",
   "pygments_lexer": "ipython3",
   "version": "3.5.4"
  }
 },
 "nbformat": 4,
 "nbformat_minor": 2
}
