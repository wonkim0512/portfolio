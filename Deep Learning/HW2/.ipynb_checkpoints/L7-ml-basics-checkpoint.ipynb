{
 "cells": [
  {
   "cell_type": "code",
   "execution_count": 6,
   "metadata": {},
   "outputs": [],
   "source": [
    "import pickle\n",
    "import numpy as np"
   ]
  },
  {
   "cell_type": "code",
   "execution_count": 7,
   "metadata": {},
   "outputs": [],
   "source": [
    "def unpickle(file):\n",
    "    with open(file, 'rb') as fo:\n",
    "        data = pickle.load(fo, encoding='bytes')\n",
    "    return data"
   ]
  },
  {
   "cell_type": "code",
   "execution_count": 8,
   "metadata": {},
   "outputs": [],
   "source": [
    "def load_CIFAR10(pos, n_chunks=1):\n",
    "    Xtr = []\n",
    "    Ytr = []\n",
    "    for i in range(n_chunks):\n",
    "        train = unpickle(pos + '/data_batch_{0}'.format(i + 1))\n",
    "        Xtr.extend(train[b'data'])\n",
    "        Ytr.extend(train[b'labels'])\n",
    "    test = unpickle(pos + '/test_batch')\n",
    "    Xte = test[b'data']\n",
    "    Yte = test[b'labels']\n",
    "    return np.array(Xtr), np.array(Ytr), np.array(Xte), np.array(Yte)"
   ]
  },
  {
   "cell_type": "code",
   "execution_count": 9,
   "metadata": {},
   "outputs": [
    {
     "name": "stdout",
     "output_type": "stream",
     "text": [
      "(10000, 3072)\n",
      "(10000,)\n",
      "(10000, 3072)\n",
      "(10000,)\n"
     ]
    }
   ],
   "source": [
    "Xtr, Ytr, Xte, Yte = load_CIFAR10('cifar-10-batches-py')\n",
    "Xtr_rows = Xtr.reshape(Xtr.shape[0], 32 * 32 * 3)\n",
    "Ytr = np.array(Ytr)\n",
    "Xte_rows = Xte.reshape(Xte.shape[0], 32 * 32 * 3)\n",
    "Yte = np.array(Yte)\n",
    "\n",
    "print(Xtr_rows.shape)\n",
    "print(Ytr.shape)\n",
    "print(Xte_rows.shape)\n",
    "print(Yte.shape)"
   ]
  },
  {
   "cell_type": "code",
   "execution_count": 10,
   "metadata": {},
   "outputs": [
    {
     "name": "stdout",
     "output_type": "stream",
     "text": [
      "(1000, 3072)\n",
      "(1000,)\n",
      "(2000, 3072)\n",
      "(2000,)\n"
     ]
    }
   ],
   "source": [
    "Xval_rows = Xtr_rows[:1000, :]\n",
    "Yval = Ytr[:1000]\n",
    "Xtr_rows = Xtr_rows[8000:, :]\n",
    "Ytr = Ytr[8000:]\n",
    "\n",
    "print(Xval_rows.shape)\n",
    "print(Yval.shape)\n",
    "print(Xtr_rows.shape)\n",
    "print(Ytr.shape)"
   ]
  },
  {
   "cell_type": "code",
   "execution_count": 12,
   "metadata": {},
   "outputs": [],
   "source": [
    "def compute_dist(X, point, dist_type):\n",
    "    if dist_type == 'l1':\n",
    "        return np.sum(np.abs(X - point), axis = 1)\n",
    "    elif dist_type == 'l2':\n",
    "        return np.sqrt(np.sum(np.square(X - point), axis = 1))"
   ]
  },
  {
   "cell_type": "code",
   "execution_count": 13,
   "metadata": {},
   "outputs": [],
   "source": [
    "def predict_point(distances, ytr, k):\n",
    "    if k == 1:\n",
    "        min_index = np.argmin(distances)\n",
    "        return ytr[min_index]\n",
    "    elif k > 1:\n",
    "        min_indices = np.argpartition(distances, k)[:k]\n",
    "        labels = np.array([ytr[i] for i in min_indices])\n",
    "        return np.argmax(np.bincount(labels))"
   ]
  },
  {
   "cell_type": "code",
   "execution_count": 14,
   "metadata": {},
   "outputs": [],
   "source": [
    "class NearestNeighbor(object):\n",
    "    def __init__(self):\n",
    "        pass\n",
    "\n",
    "    def train(self, X, y):\n",
    "        self.Xtr = X\n",
    "        self.ytr = y\n",
    "\n",
    "    def predict(self, X, k=1, dist_type='l1'):\n",
    "        num_test = X.shape[0]\n",
    "        Ypred = np.zeros(num_test, dtype = self.ytr.dtype)\n",
    "\n",
    "        for i in range(num_test):\n",
    "            distances = compute_dist(self.Xtr, X[i,:], dist_type)\n",
    "            Ypred[i] = predict_point(distances, self.ytr, k)\n",
    "            \n",
    "        return Ypred"
   ]
  },
  {
   "cell_type": "code",
   "execution_count": 15,
   "metadata": {},
   "outputs": [
    {
     "name": "stdout",
     "output_type": "stream",
     "text": [
      "k: 1, dist_type: l1, accuracy: 0.202000\n",
      "k: 1, dist_type: l2, accuracy: 0.169000\n",
      "k: 3, dist_type: l1, accuracy: 0.177000\n",
      "k: 3, dist_type: l2, accuracy: 0.178000\n",
      "k: 5, dist_type: l1, accuracy: 0.181000\n",
      "k: 5, dist_type: l2, accuracy: 0.186000\n",
      "k: 10, dist_type: l1, accuracy: 0.187000\n",
      "k: 10, dist_type: l2, accuracy: 0.180000\n",
      "k: 20, dist_type: l1, accuracy: 0.181000\n",
      "k: 20, dist_type: l2, accuracy: 0.195000\n",
      "k: 50, dist_type: l1, accuracy: 0.173000\n",
      "k: 50, dist_type: l2, accuracy: 0.196000\n",
      "k: 100, dist_type: l1, accuracy: 0.167000\n",
      "k: 100, dist_type: l2, accuracy: 0.210000\n"
     ]
    }
   ],
   "source": [
    "validation_accuracies = []\n",
    "for k in [1, 3, 5, 10, 20, 50, 100]:\n",
    "    for dist_type in ['l1', 'l2']:\n",
    "        nn = NearestNeighbor()\n",
    "        nn.train(Xtr_rows, Ytr)\n",
    "\n",
    "        Yval_predict = nn.predict(Xval_rows, k=k, dist_type=dist_type)\n",
    "        acc = np.mean(Yval_predict == Yval)\n",
    "        print('k: %d, dist_type: %s, accuracy: %f' % (k, dist_type, acc))\n",
    "\n",
    "        validation_accuracies.append((k, acc))"
   ]
  },
  {
   "cell_type": "code",
   "execution_count": 16,
   "metadata": {},
   "outputs": [],
   "source": [
    "from sklearn.ensemble import RandomForestClassifier\n",
    "from sklearn.datasets import make_classification"
   ]
  },
  {
   "cell_type": "code",
   "execution_count": 18,
   "metadata": {},
   "outputs": [
    {
     "name": "stdout",
     "output_type": "stream",
     "text": [
      "[ 0.17287856  0.80608704  0.01884792  0.00218648]\n",
      "[1]\n"
     ]
    }
   ],
   "source": [
    "X, y = make_classification(n_samples=1000, n_features=4, \n",
    "                           n_informative=2, n_redundant=0, \n",
    "                           random_state=0, n_classes=2, \n",
    "                           shuffle=False)"
   ]
  },
  {
   "cell_type": "code",
   "execution_count": 19,
   "metadata": {},
   "outputs": [
    {
     "name": "stdout",
     "output_type": "stream",
     "text": [
      "[ 0.17287856  0.80608704  0.01884792  0.00218648]\n",
      "[1]\n"
     ]
    }
   ],
   "source": [
    "clf = RandomForestClassifier(max_depth=2, random_state=0)\n",
    "clf.fit(X, y)\n",
    "print(clf.feature_importances_)\n",
    "print(clf.predict([[0, 0, 0, 0]]))"
   ]
  },
  {
   "cell_type": "code",
   "execution_count": null,
   "metadata": {},
   "outputs": [],
   "source": []
  }
 ],
 "metadata": {
  "kernelspec": {
   "display_name": "Python 3",
   "language": "python",
   "name": "python3"
  },
  "language_info": {
   "codemirror_mode": {
    "name": "ipython",
    "version": 3
   },
   "file_extension": ".py",
   "mimetype": "text/x-python",
   "name": "python",
   "nbconvert_exporter": "python",
   "pygments_lexer": "ipython3",
   "version": "3.6.1"
  }
 },
 "nbformat": 4,
 "nbformat_minor": 2
}
