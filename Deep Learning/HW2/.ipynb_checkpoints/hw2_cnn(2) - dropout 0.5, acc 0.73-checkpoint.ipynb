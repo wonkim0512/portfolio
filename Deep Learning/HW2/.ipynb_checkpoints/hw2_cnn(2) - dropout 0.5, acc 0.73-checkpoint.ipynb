{
 "cells": [
  {
   "cell_type": "code",
   "execution_count": 1,
   "metadata": {},
   "outputs": [],
   "source": [
    "import pickle\n",
    "import numpy as np\n",
    "import tensorflow as tf"
   ]
  },
  {
   "cell_type": "code",
   "execution_count": 2,
   "metadata": {},
   "outputs": [],
   "source": [
    "tf.set_random_seed(11)  # reproducibility"
   ]
  },
  {
   "cell_type": "code",
   "execution_count": 3,
   "metadata": {},
   "outputs": [],
   "source": [
    "def unpickle(file):\n",
    "    with open(file, 'rb') as fo:\n",
    "        data = pickle.load(fo, encoding='bytes')\n",
    "    return data"
   ]
  },
  {
   "cell_type": "code",
   "execution_count": 4,
   "metadata": {},
   "outputs": [],
   "source": [
    "#load the CIFAR-10\n",
    "def load_CIFAR10(pos, n_chunks=1):\n",
    "    Xtr = []\n",
    "    Ytr = []\n",
    "    for i in range(n_chunks):\n",
    "        train = unpickle(pos + '/data_batch_{0}'.format(i + 1))\n",
    "        Xtr.extend(train[b'data'])\n",
    "        Ytr.extend(train[b'labels'])\n",
    "        test = unpickle(pos + '/test_batch')\n",
    "        Xte = test[b'data']\n",
    "        Yte = test[b'labels']\n",
    "    return np.array(Xtr), np.array(Ytr), np.array(Xte), np.array(Yte)"
   ]
  },
  {
   "cell_type": "code",
   "execution_count": 5,
   "metadata": {},
   "outputs": [],
   "source": [
    "# expresses the label data in one-hot encoding.\n",
    "def onehot_encoding (Ytr, Yte):\n",
    "    Ytr_onehot = np.zeros((Ytr.size, 10))\n",
    "    Yte_onehot = np.zeros((Yte.size, 10))\n",
    "    for i in range(Ytr.size):\n",
    "        Ytr_onehot[i][Ytr[i]] = 1\n",
    "    for i in range(Yte.size):\n",
    "        Yte_onehot[i][Yte[i]] = 1\n",
    "    return Ytr_onehot, Yte_onehot"
   ]
  },
  {
   "cell_type": "code",
   "execution_count": 6,
   "metadata": {},
   "outputs": [],
   "source": [
    "# load the train and test data\n",
    "Xtr, Ytr, Xte, Yte = load_CIFAR10('cifar-10-batches-py', 5)\n",
    "                                 \n",
    "# image data, each data size is 32*32*3\n",
    "Xtr = Xtr.reshape(50000, 3, 32, 32).transpose(0,2,3,1).astype(\"float\")\n",
    "Xte = Xte.reshape(10000, 3, 32, 32).transpose(0,2,3,1).astype(\"float\")\n",
    "\n",
    "# label data of train and test data, label data is represented by one-hot encoding\n",
    "Ytr_onehot, Yte_onehot = onehot_encoding(Ytr, Yte)"
   ]
  },
  {
   "cell_type": "code",
   "execution_count": 7,
   "metadata": {},
   "outputs": [],
   "source": [
    "X = tf.placeholder(tf.float32, [None, 32, 32, 3])\n",
    "Y = tf.placeholder(tf.float32, [None, 10])\n",
    "dropout_prob = tf.placeholder(tf.float32)"
   ]
  },
  {
   "cell_type": "markdown",
   "metadata": {},
   "source": [
    "# 여기서부터"
   ]
  },
  {
   "cell_type": "code",
   "execution_count": 8,
   "metadata": {},
   "outputs": [
    {
     "name": "stdout",
     "output_type": "stream",
     "text": [
      "Tensor(\"conv1/MaxPool:0\", shape=(?, 16, 16, 32), dtype=float32)\n"
     ]
    }
   ],
   "source": [
    "### Implement the layers of CNNs ###\n",
    "\n",
    "with tf.name_scope('conv1'):\n",
    "    W1 = tf.Variable(tf.random_normal([3,3,3,32], stddev = 0.01))\n",
    "    L1 = tf.nn.conv2d(X, W1, strides = [1,1,1,1], padding = 'SAME')\n",
    "    L1 = tf.nn.relu(L1)\n",
    "    L1 = tf.nn.max_pool(L1, ksize = [1,2,2,1], strides = [1,2,2,1], padding = 'SAME')\n",
    "    #L1 = tf.nn.dropout(L1, keep_prob=dropout_prob)\n",
    "    print(L1)"
   ]
  },
  {
   "cell_type": "code",
   "execution_count": 9,
   "metadata": {},
   "outputs": [
    {
     "name": "stdout",
     "output_type": "stream",
     "text": [
      "Tensor(\"conv2/MaxPool:0\", shape=(?, 8, 8, 64), dtype=float32)\n"
     ]
    }
   ],
   "source": [
    "with tf.name_scope('conv2'):\n",
    "    W2 = tf.Variable(tf.random_normal([3, 3, 32, 64], stddev=0.01))\n",
    "    L2 = tf.nn.conv2d(L1, W2, strides=[1, 1, 1, 1], padding='SAME')\n",
    "    L2 = tf.nn.relu(L2)\n",
    "    L2 = tf.nn.max_pool(L2, ksize=[1, 2, 2, 1], strides=[1, 2, 2, 1], padding='SAME')\n",
    "    print(L2)"
   ]
  },
  {
   "cell_type": "code",
   "execution_count": 10,
   "metadata": {},
   "outputs": [
    {
     "name": "stdout",
     "output_type": "stream",
     "text": [
      "Tensor(\"conv3/MaxPool:0\", shape=(?, 4, 4, 128), dtype=float32)\n"
     ]
    }
   ],
   "source": [
    "with tf.name_scope('conv3'):\n",
    "    W3 = tf.Variable(tf.random_normal([3, 3, 64, 128], stddev=0.01))\n",
    "    L3 = tf.nn.conv2d(L2, W3, strides = [1,1,1,1], padding = \"SAME\")\n",
    "    L3 = tf.nn.relu(L3)\n",
    "    L3 = tf.nn.max_pool(L3, ksize = [1,2,2,1], strides = [1,2,2,1], padding='SAME')\n",
    "    #L3 = tf.nn.dropout(L3, keep_prob=dropout_prob)\n",
    "    print(L3)"
   ]
  },
  {
   "cell_type": "code",
   "execution_count": 11,
   "metadata": {},
   "outputs": [
    {
     "name": "stdout",
     "output_type": "stream",
     "text": [
      "Tensor(\"fc1/dropout/mul:0\", shape=(?, 256), dtype=float32)\n"
     ]
    }
   ],
   "source": [
    "with tf.name_scope('fc1'):\n",
    "    W4 = tf.Variable(tf.random_normal([4*4*128, 256], stddev=0.01))\n",
    "    L4 = tf.reshape(L3, [-1, 4*4*128])\n",
    "    L4 = tf.matmul(L4, W4)\n",
    "    b4 = tf.Variable(tf.random_normal([256]))\n",
    "    L4 = tf.nn.relu(L4 + b4)\n",
    "    \n",
    "    # dropout\n",
    "    L4 = tf.nn.dropout(L4, keep_prob=dropout_prob)\n",
    "    print(L4)"
   ]
  },
  {
   "cell_type": "code",
   "execution_count": 12,
   "metadata": {},
   "outputs": [
    {
     "name": "stdout",
     "output_type": "stream",
     "text": [
      "Tensor(\"fc2/dropout/mul:0\", shape=(?, 512), dtype=float32)\n"
     ]
    }
   ],
   "source": [
    "with tf.name_scope('fc2'):\n",
    "    W5 = tf.Variable(tf.random_normal([256, 512], stddev=0.01))\n",
    "    L5 = tf.matmul(L4, W5)\n",
    "    b5 = tf.Variable(tf.random_normal([512]))\n",
    "    L5 = tf.nn.relu(L5 + b5)\n",
    "    \n",
    "    # dropout\n",
    "    L5 = tf.nn.dropout(L5, keep_prob=dropout_prob)\n",
    "    print(L5)"
   ]
  },
  {
   "cell_type": "code",
   "execution_count": 13,
   "metadata": {},
   "outputs": [],
   "source": [
    "with tf.name_scope('fc3'):\n",
    "    W6 = tf.Variable(tf.random_normal([512, 10],stddev= 0.01))\n",
    "    b6 = tf.Variable(tf.random_normal([10]))\n",
    "    model = tf.matmul(L5, W6) + b6"
   ]
  },
  {
   "cell_type": "code",
   "execution_count": 14,
   "metadata": {},
   "outputs": [],
   "source": [
    "with tf.name_scope('accuracy'):\n",
    "    correct_prediction = tf.equal(tf.argmax(model, 1), tf.argmax(Y, 1))\n",
    "    accuracy = tf.reduce_mean(tf.cast(correct_prediction, tf.float32))"
   ]
  },
  {
   "cell_type": "markdown",
   "metadata": {},
   "source": [
    "# 여기까지"
   ]
  },
  {
   "cell_type": "code",
   "execution_count": 15,
   "metadata": {},
   "outputs": [],
   "source": [
    "# hyper parameters\n",
    "learning_rate = 0.001\n",
    "training_epochs = 50\n",
    "batch_size = 1000\n",
    "test_size = 200\n",
    "total_batch = int(len(Xtr) / batch_size)"
   ]
  },
  {
   "cell_type": "code",
   "execution_count": 16,
   "metadata": {},
   "outputs": [],
   "source": [
    "# cost function, you can change the implementation\n",
    "cost = tf.reduce_mean(tf.nn.softmax_cross_entropy_with_logits(logits=model, labels=Y))\n",
    "optimizer = tf.train.AdamOptimizer(learning_rate).minimize(cost)"
   ]
  },
  {
   "cell_type": "code",
   "execution_count": 17,
   "metadata": {},
   "outputs": [],
   "source": [
    "# initialize the variables\n",
    "init = tf.global_variables_initializer()\n",
    "sess = tf.Session()\n",
    "sess.run(init)"
   ]
  },
  {
   "cell_type": "markdown",
   "metadata": {},
   "source": [
    "# 여기서부터"
   ]
  },
  {
   "cell_type": "code",
   "execution_count": 18,
   "metadata": {
    "scrolled": false
   },
   "outputs": [
    {
     "name": "stdout",
     "output_type": "stream",
     "text": [
      "********************Learning started********************\n",
      "Epoch:  0001\n",
      "Average cost =  2.327685146331787\n",
      "Accuracy =  0.15000000596046448\n",
      "\n",
      "Epoch:  0002\n",
      "Average cost =  2.0562736439704894\n",
      "Accuracy =  0.3100000023841858\n",
      "\n",
      "Epoch:  0003\n",
      "Average cost =  1.7501927137374877\n",
      "Accuracy =  0.4350000023841858\n",
      "\n",
      "Epoch:  0004\n",
      "Average cost =  1.5737753653526305\n",
      "Accuracy =  0.47999998927116394\n",
      "\n",
      "Epoch:  0005\n",
      "Average cost =  1.393071837425232\n",
      "Accuracy =  0.5600000023841858\n",
      "\n",
      "Epoch:  0006\n",
      "Average cost =  1.254302942752838\n",
      "Accuracy =  0.5899999737739563\n",
      "\n",
      "Epoch:  0007\n",
      "Average cost =  1.1279601407051087\n",
      "Accuracy =  0.6349999904632568\n",
      "\n",
      "Epoch:  0008\n",
      "Average cost =  1.0613248813152314\n",
      "Accuracy =  0.6899999976158142\n",
      "\n",
      "Epoch:  0009\n",
      "Average cost =  0.9934137105941773\n",
      "Accuracy =  0.6899999976158142\n",
      "\n",
      "Epoch:  0010\n",
      "Average cost =  0.9473670077323914\n",
      "Accuracy =  0.6549999713897705\n",
      "\n",
      "Epoch:  0011\n",
      "Average cost =  0.8998238694667816\n",
      "Accuracy =  0.7049999833106995\n",
      "\n",
      "Epoch:  0012\n",
      "Average cost =  0.8421513247489929\n",
      "Accuracy =  0.7350000143051147\n",
      "\n",
      "Epoch:  0013\n",
      "Average cost =  0.7914154851436614\n",
      "Accuracy =  0.6899999976158142\n",
      "\n",
      "Epoch:  0014\n",
      "Average cost =  0.7684804356098175\n",
      "Accuracy =  0.6700000166893005\n",
      "\n",
      "Epoch:  0015\n",
      "Average cost =  0.7367426347732544\n",
      "Accuracy =  0.7649999856948853\n",
      "\n",
      "Epoch:  0016\n",
      "Average cost =  0.7114079225063324\n",
      "Accuracy =  0.7450000047683716\n",
      "\n",
      "Epoch:  0017\n",
      "Average cost =  0.6671062433719634\n",
      "Accuracy =  0.7149999737739563\n",
      "\n",
      "Epoch:  0018\n",
      "Average cost =  0.6533656179904938\n",
      "Accuracy =  0.7099999785423279\n",
      "\n",
      "Epoch:  0019\n",
      "Average cost =  0.6271501457691193\n",
      "Accuracy =  0.8050000071525574\n",
      "\n",
      "Epoch:  0020\n",
      "Average cost =  0.6001449298858642\n",
      "Accuracy =  0.7250000238418579\n",
      "\n",
      "Epoch:  0021\n",
      "Average cost =  0.5820190906524658\n",
      "Accuracy =  0.7250000238418579\n",
      "\n",
      "Epoch:  0022\n",
      "Average cost =  0.5756527185440063\n",
      "Accuracy =  0.6850000023841858\n",
      "\n",
      "Epoch:  0023\n",
      "Average cost =  0.5441506499052048\n",
      "Accuracy =  0.7300000190734863\n",
      "\n",
      "Epoch:  0024\n",
      "Average cost =  0.5175527495145797\n",
      "Accuracy =  0.7450000047683716\n",
      "\n",
      "Epoch:  0025\n",
      "Average cost =  0.49822721183300017\n",
      "Accuracy =  0.7149999737739563\n",
      "\n",
      "Epoch:  0026\n",
      "Average cost =  0.4793669146299362\n",
      "Accuracy =  0.7649999856948853\n",
      "\n",
      "Epoch:  0027\n",
      "Average cost =  0.49374007999897\n",
      "Accuracy =  0.7149999737739563\n",
      "\n",
      "Epoch:  0028\n",
      "Average cost =  0.45975048243999483\n",
      "Accuracy =  0.7799999713897705\n",
      "\n",
      "Epoch:  0029\n",
      "Average cost =  0.439046528339386\n",
      "Accuracy =  0.7699999809265137\n",
      "\n",
      "Epoch:  0030\n",
      "Average cost =  0.41566728830337524\n",
      "Accuracy =  0.6949999928474426\n",
      "\n",
      "Epoch:  0031\n",
      "Average cost =  0.4107925617694855\n",
      "Accuracy =  0.7900000214576721\n",
      "\n",
      "Epoch:  0032\n",
      "Average cost =  0.3846085226535797\n",
      "Accuracy =  0.7699999809265137\n",
      "\n",
      "Epoch:  0033\n",
      "Average cost =  0.37803517818450927\n",
      "Accuracy =  0.7400000095367432\n",
      "\n",
      "Epoch:  0034\n",
      "Average cost =  0.3672128540277481\n",
      "Accuracy =  0.7149999737739563\n",
      "\n",
      "Epoch:  0035\n",
      "Average cost =  0.3700462728738785\n",
      "Accuracy =  0.824999988079071\n",
      "\n",
      "Epoch:  0036\n",
      "Average cost =  0.3985689854621887\n",
      "Accuracy =  0.7599999904632568\n",
      "\n",
      "Epoch:  0037\n",
      "Average cost =  0.3777303159236908\n",
      "Accuracy =  0.7250000238418579\n",
      "\n",
      "Epoch:  0038\n",
      "Average cost =  0.3607044196128845\n",
      "Accuracy =  0.8349999785423279\n",
      "\n",
      "Epoch:  0039\n",
      "Average cost =  0.33401375710964204\n",
      "Accuracy =  0.7149999737739563\n",
      "\n",
      "Epoch:  0040\n",
      "Average cost =  0.3201931947469711\n",
      "Accuracy =  0.7749999761581421\n",
      "\n",
      "Epoch:  0041\n",
      "Average cost =  0.32557775676250456\n",
      "Accuracy =  0.7450000047683716\n",
      "\n",
      "Epoch:  0042\n",
      "Average cost =  0.30669096916913985\n",
      "Accuracy =  0.699999988079071\n",
      "\n",
      "Epoch:  0043\n",
      "Average cost =  0.3055699974298477\n",
      "Accuracy =  0.7450000047683716\n",
      "\n",
      "Epoch:  0044\n",
      "Average cost =  0.2915085655450821\n",
      "Accuracy =  0.7300000190734863\n",
      "\n",
      "Epoch:  0045\n",
      "Average cost =  0.29589540541172027\n",
      "Accuracy =  0.7099999785423279\n",
      "\n",
      "Epoch:  0046\n",
      "Average cost =  0.2940095266699791\n",
      "Accuracy =  0.7250000238418579\n",
      "\n",
      "Epoch:  0047\n",
      "Average cost =  0.30407934576272966\n",
      "Accuracy =  0.75\n",
      "\n",
      "Epoch:  0048\n",
      "Average cost =  0.30562184005975723\n",
      "Accuracy =  0.7200000286102295\n",
      "\n",
      "Epoch:  0049\n",
      "Average cost =  0.27771671772003176\n",
      "Accuracy =  0.7099999785423279\n",
      "\n",
      "Epoch:  0050\n",
      "Average cost =  0.29219102531671526\n",
      "Accuracy =  0.7350000143051147\n",
      "\n",
      "********************Learning finished********************\n"
     ]
    }
   ],
   "source": [
    "### Implement the train process ###\n",
    "print(\"*\"*20 + 'Learning started' + \"*\"*20)\n",
    "\n",
    "for epoch in range(training_epochs):\n",
    "    total_cost = 0\n",
    "    \n",
    "    for batch_idx in range(total_batch):\n",
    "        batch_xs = Xtr[batch_size * batch_idx : batch_size * (batch_idx+1)]\n",
    "        batch_ys = Ytr_onehot[batch_size * batch_idx : batch_size * (batch_idx+1)]\n",
    "            \n",
    "        feed_dicts = {X: batch_xs, Y: batch_ys, dropout_prob: 0.5}\n",
    "        _, cost_val = sess.run([optimizer, cost], feed_dict = feed_dicts) #optimizer는 필요가 없어서 _에 assign\n",
    "        total_cost += cost_val\n",
    "        \n",
    "    test_indices = np.arange(len(Yte_onehot))\n",
    "    np.random.shuffle(test_indices)\n",
    "    test_indices = test_indices[:test_size]\n",
    "    \n",
    "    test_xs = Xte[test_indices]\n",
    "    test_ys = Yte_onehot[test_indices]\n",
    "    feed_dicts = {X: test_xs, Y: test_ys, dropout_prob: 1}\n",
    "    acc = sess.run(accuracy, feed_dict = feed_dicts )\n",
    "        \n",
    "    print(\"Epoch: \", \"%04d\" %(epoch + 1))\n",
    "    print(\"Average cost = \", \"{}\".format(total_cost/total_batch))\n",
    "    print(\"Accuracy = \", \"{}\\n\".format(acc))\n",
    "    \n",
    "    \n",
    "print(\"*\"*20 + 'Learning finished' + \"*\"*20)"
   ]
  },
  {
   "cell_type": "code",
   "execution_count": 19,
   "metadata": {},
   "outputs": [
    {
     "name": "stdout",
     "output_type": "stream",
     "text": [
      "Accuracy 0.7301\n"
     ]
    }
   ],
   "source": [
    "### Implement the test process ###\n",
    "\n",
    "print('Accuracy', sess.run(accuracy, feed_dict = {X: Xte, Y: Yte_onehot, dropout_prob: 1}))"
   ]
  },
  {
   "cell_type": "code",
   "execution_count": 20,
   "metadata": {
    "scrolled": false
   },
   "outputs": [
    {
     "name": "stdout",
     "output_type": "stream",
     "text": [
      "0.724\n",
      "0.736\n",
      "0.703\n",
      "0.735\n",
      "0.761\n",
      "0.72\n",
      "0.724\n",
      "0.728\n",
      "0.738\n",
      "0.732\n",
      "\n",
      "Avg acc: 0.7300999939441681\n"
     ]
    }
   ],
   "source": [
    "# Accuracy\n",
    "\n",
    "total_acc = 0\n",
    "total_batch = int(len(Yte_onehot)/batch_size)\n",
    "\n",
    "for idx in range(total_batch):\n",
    "    curr_acc = sess.run(accuracy, feed_dict={X: Xte[batch_size*idx: batch_size*(idx+1)],\\\n",
    "                                             Y: Yte_onehot[batch_size*idx: batch_size*(idx+1)], dropout_prob: 1})\n",
    "    \n",
    "    total_acc += curr_acc\n",
    "    print(curr_acc)\n",
    "\n",
    "print(\"\\nAvg acc: {}\".format(total_acc/total_batch))"
   ]
  },
  {
   "cell_type": "markdown",
   "metadata": {
    "collapsed": true
   },
   "source": [
    "# 여기까지"
   ]
  }
 ],
 "metadata": {
  "kernelspec": {
   "display_name": "tensorflow",
   "language": "python",
   "name": "tensorflow"
  },
  "language_info": {
   "codemirror_mode": {
    "name": "ipython",
    "version": 3
   },
   "file_extension": ".py",
   "mimetype": "text/x-python",
   "name": "python",
   "nbconvert_exporter": "python",
   "pygments_lexer": "ipython3",
   "version": "3.5.4"
  }
 },
 "nbformat": 4,
 "nbformat_minor": 2
}
